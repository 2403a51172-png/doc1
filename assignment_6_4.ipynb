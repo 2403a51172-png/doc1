{
  "nbformat": 4,
  "nbformat_minor": 0,
  "metadata": {
    "colab": {
      "provenance": [],
      "authorship_tag": "ABX9TyNueeRmt2hWcGu6+JlSmJdw",
      "include_colab_link": true
    },
    "kernelspec": {
      "name": "python3",
      "display_name": "Python 3"
    },
    "language_info": {
      "name": "python"
    }
  },
  "cells": [
    {
      "cell_type": "markdown",
      "metadata": {
        "id": "view-in-github",
        "colab_type": "text"
      },
      "source": [
        "<a href=\"https://colab.research.google.com/github/2403a51172-png/doc1/blob/main/assignment_6_4.ipynb\" target=\"_parent\"><img src=\"https://colab.research.google.com/assets/colab-badge.svg\" alt=\"Open In Colab\"/></a>"
      ]
    },
    {
      "cell_type": "markdown",
      "source": [
        "task1: Start a Python class named Student with attributes name, roll_number, and marks. Prompt\n",
        "GitHub Copilot to complete methods for displaying details and checking if marks are above\n",
        "average"
      ],
      "metadata": {
        "id": "dpU5Hp5GggoJ"
      }
    },
    {
      "cell_type": "code",
      "execution_count": 21,
      "metadata": {
        "colab": {
          "base_uri": "https://localhost:8080/"
        },
        "id": "HQxM0m73R0eg",
        "outputId": "5ace99d5-05d4-43c6-ff12-939883986718"
      },
      "outputs": [
        {
          "output_type": "stream",
          "name": "stdout",
          "text": [
            "Aisha 101 85\n",
            "True\n",
            "False\n"
          ]
        }
      ],
      "source": [
        "#Write the Class Skeleton\n",
        "class student:\n",
        "  def __init__(self,name,roll_no,marks):\n",
        "     self.name=name\n",
        "     self.roll_no=roll_no\n",
        "     self.marks=marks\n",
        "  def display(self):\n",
        "    print(self.name,self.roll_no,self.marks)\n",
        "  def is_pass(self):\n",
        "    if self.marks>=40:\n",
        "      return true\n",
        "    else:\n",
        "      return false\n",
        "\n",
        "s1=student(\"Aisha\",101,85)\n",
        "s2=student(\"Ravi\",102,39)\n",
        "s1.display()\n",
        "\n",
        "print(s1.is_pass())\n",
        "print(s2.is_pass())"
      ]
    },
    {
      "cell_type": "markdown",
      "source": [
        "task 2:write the first two lines of a for loop to iterate through a list of numbers\n",
        "\n"
      ],
      "metadata": {
        "id": "UfFLbAQ0gVIQ"
      }
    },
    {
      "cell_type": "code",
      "source": [
        "# Write the first two lines of a for loop to iterate through a list of numbers and how to calculate and print the square of even numbers only.\n",
        "numbers = [1, 2, 3, 4, 5, 6, 7, 8, 9, 10]\n",
        "for number in numbers:\n",
        "  if number % 2 == 0:\n",
        "    print(number ** 2)"
      ],
      "metadata": {
        "colab": {
          "base_uri": "https://localhost:8080/"
        },
        "id": "9nQVPW6XcOWg",
        "outputId": "e1253da5-4285-4ce0-a5bb-e2a01c261037"
      },
      "execution_count": 38,
      "outputs": [
        {
          "output_type": "stream",
          "name": "stdout",
          "text": [
            "4\n",
            "16\n",
            "36\n",
            "64\n",
            "100\n"
          ]
        }
      ]
    },
    {
      "cell_type": "markdown",
      "source": [
        "task 3: Create a class called BankAccount with attributes account_holder and balance."
      ],
      "metadata": {
        "id": "II0VscDYcvt4"
      }
    },
    {
      "cell_type": "code",
      "source": [
        "# Create a class called BankAccount with attributes account_holder and balance.\n",
        "class BankAccount:\n",
        "    def __init__(self, account_holder, balance=0):\n",
        "        self.account_holder = account_holder\n",
        "        self.balance = balance\n",
        "\n",
        "    # Method for deposit\n",
        "    def deposit(self, amount):\n",
        "        if amount > 0:\n",
        "            self.balance += amount\n",
        "            print(f\"Deposit of ${amount} successful. New balance: ${self.balance}\")\n",
        "        else:\n",
        "            print(\"Deposit amount must be positive.\")\n",
        "\n",
        "    # Method for withdraw\n",
        "    def withdraw(self, amount):\n",
        "        if amount > 0:\n",
        "            if self.balance >= amount:\n",
        "                self.balance -= amount\n",
        "                print(f\"Withdrawal of ${amount} successful. New balance: ${self.balance}\")\n",
        "            else:\n",
        "                print(\"Insufficient balance.\")\n",
        "        else:\n",
        "            print(\"Withdrawal amount must be positive.\")\n",
        "\n",
        "    # Method to check for insufficient balance\n",
        "    def check_insufficient_balance(self, amount):\n",
        "        return self.balance < amount\n",
        "\n",
        "#Example usage:\n",
        "account1 = BankAccount(\"Alice\", 1000)\n",
        "account1.deposit(500)\n",
        "account1.withdraw(200)\n",
        "print(f\"Check for insufficient balance for 1500: {account1.check_insufficient_balance(1500)}\")\n",
        "print(f\"Check for insufficient balance for 100: {account1.check_insufficient_balance(100)}\")"
      ],
      "metadata": {
        "colab": {
          "base_uri": "https://localhost:8080/"
        },
        "id": "Zm_0xa0zcveg",
        "outputId": "f3008414-9763-4542-f338-38248d5b17a1"
      },
      "execution_count": 45,
      "outputs": [
        {
          "output_type": "stream",
          "name": "stdout",
          "text": [
            "Deposit of $500 successful. New balance: $1500\n",
            "Withdrawal of $200 successful. New balance: $1300\n",
            "Check for insufficient balance for 1500: True\n",
            "Check for insufficient balance for 100: False\n"
          ]
        }
      ]
    },
    {
      "cell_type": "markdown",
      "source": [
        "task 4:Define a list of student dictionaries with keys name and score. Ask Copilot to write a while\n",
        "loop to print the names of students who scored more than 75."
      ],
      "metadata": {
        "id": "kzFFuUj6e46X"
      }
    },
    {
      "cell_type": "code",
      "source": [
        "# Define a list of student dictionaries\n",
        "students = [\n",
        "    {\"name\": \"Alice\", \"score\": 85},\n",
        "    {\"name\": \"Bob\", \"score\": 70},\n",
        "    {\"name\": \"Charlie\", \"score\": 92},\n",
        "    {\"name\": \"David\", \"score\": 68},\n",
        "    {\"name\": \"Eve\", \"score\": 78}\n",
        "]\n",
        "\n",
        "# Use a while loop to print names of students who scored more than 75\n",
        "i = 0\n",
        "while i < len(students):\n",
        "    if students[i][\"score\"] > 75:\n",
        "        print(students[i][\"name\"])\n",
        "    i += 1"
      ],
      "metadata": {
        "colab": {
          "base_uri": "https://localhost:8080/"
        },
        "id": "1q91gWEse4iY",
        "outputId": "1748acc1-5f33-4298-90de-85b81e9d4fda"
      },
      "execution_count": 46,
      "outputs": [
        {
          "output_type": "stream",
          "name": "stdout",
          "text": [
            "Alice\n",
            "Charlie\n",
            "Eve\n"
          ]
        }
      ]
    },
    {
      "cell_type": "markdown",
      "source": [
        "task 5:Begin writing a class ShoppingCart with an empty items list. Prompt Copilot to generate\n",
        "methods to add_item, remove_item, and use a loop to calculate the total bill using conditional\n",
        "discounts"
      ],
      "metadata": {
        "id": "2-07Vb6LfhPv"
      }
    },
    {
      "cell_type": "code",
      "source": [
        "# Begin writing a class ShoppingCart with an empty items list.\n",
        "class ShoppingCart:\n",
        "    def __init__(self):\n",
        "        self.items = []\n",
        "\n",
        "    # Method to add an item\n",
        "    def add_item(self, item, price, quantity=1):\n",
        "        self.items.append({\"item\": item, \"price\": price, \"quantity\": quantity})\n",
        "        print(f\"Added {quantity} of {item} to the cart.\")\n",
        "\n",
        "    # Method to remove an item\n",
        "    def remove_item(self, item):\n",
        "        initial_item_count = len(self.items)\n",
        "        self.items = [cart_item for cart_item in self.items if cart_item[\"item\"] != item]\n",
        "        if len(self.items) < initial_item_count:\n",
        "            print(f\"Removed {item} from the cart.\")\n",
        "        else:\n",
        "            print(f\"{item} not found in the cart.\")\n",
        "\n",
        "\n",
        "    # Method to calculate the total bill with conditional discounts\n",
        "    def calculate_total(self):\n",
        "        total_bill = 0\n",
        "        for item in self.items:\n",
        "            item_total = item[\"price\"] * item[\"quantity\"]\n",
        "            # Apply conditional discounts (example: 10% off if total is over $100)\n",
        "            if item_total > 100:\n",
        "                item_total *= 0.9  # 10% discount\n",
        "            total_bill += item_total\n",
        "        return total_bill\n",
        "\n",
        "# Example Usage:\n",
        "cart = ShoppingCart()\n",
        "cart.add_item(\"Laptop\", 1200, 1)\n",
        "cart.add_item(\"Mouse\", 25, 2)\n",
        "cart.add_item(\"Keyboard\", 75, 1)\n",
        "print(f\"Current items in cart: {cart.items}\")\n",
        "cart.remove_item(\"Mouse\")\n",
        "print(f\"Current items in cart after removing Mouse: {cart.items}\")\n",
        "total = cart.calculate_total()\n",
        "print(f\"Total bill: ${total:.2f}\")"
      ],
      "metadata": {
        "colab": {
          "base_uri": "https://localhost:8080/"
        },
        "id": "Ps72YYsufhAQ",
        "outputId": "26787c65-a89f-4613-9490-6c8527d47cf4"
      },
      "execution_count": 50,
      "outputs": [
        {
          "output_type": "stream",
          "name": "stdout",
          "text": [
            "Added 1 of Laptop to the cart.\n",
            "Added 2 of Mouse to the cart.\n",
            "Added 1 of Keyboard to the cart.\n",
            "Current items in cart: [{'item': 'Laptop', 'price': 1200, 'quantity': 1}, {'item': 'Mouse', 'price': 25, 'quantity': 2}, {'item': 'Keyboard', 'price': 75, 'quantity': 1}]\n",
            "Removed Mouse from the cart.\n",
            "Current items in cart after removing Mouse: [{'item': 'Laptop', 'price': 1200, 'quantity': 1}, {'item': 'Keyboard', 'price': 75, 'quantity': 1}]\n",
            "Total bill: $1155.00\n"
          ]
        }
      ]
    },
    {
      "cell_type": "markdown",
      "source": [],
      "metadata": {
        "id": "pnGsdZNefg2A"
      }
    },
    {
      "cell_type": "markdown",
      "source": [],
      "metadata": {
        "id": "boQQmTmVe4SY"
      }
    },
    {
      "cell_type": "markdown",
      "source": [],
      "metadata": {
        "id": "fDXYRVwVWjY4"
      }
    }
  ]
}