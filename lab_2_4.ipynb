{
  "nbformat": 4,
  "nbformat_minor": 0,
  "metadata": {
    "colab": {
      "provenance": [],
      "authorship_tag": "ABX9TyNogyyYbGV3GT1h5WZx9zRS",
      "include_colab_link": true
    },
    "kernelspec": {
      "name": "python3",
      "display_name": "Python 3"
    },
    "language_info": {
      "name": "python"
    }
  },
  "cells": [
    {
      "cell_type": "markdown",
      "metadata": {
        "id": "view-in-github",
        "colab_type": "text"
      },
      "source": [
        "<a href=\"https://colab.research.google.com/github/2403a51172-png/doc1/blob/main/lab_2_4.ipynb\" target=\"_parent\"><img src=\"https://colab.research.google.com/assets/colab-badge.svg\" alt=\"Open In Colab\"/></a>"
      ]
    },
    {
      "cell_type": "code",
      "execution_count": null,
      "metadata": {
        "id": "kS6yNmY8PKIT"
      },
      "outputs": [],
      "source": []
    },
    {
      "cell_type": "markdown",
      "source": [
        "task 0\n",
        "write a python function to verify the number is odd or even\n",
        "Prompt :generate phython function to check odd or even number"
      ],
      "metadata": {
        "id": "FOJNMasrPNUB"
      }
    },
    {
      "cell_type": "code",
      "source": [
        "task 1\n",
        "• # Write Python code that sorts a list in two ways:\n",
        "# 1. Using bubble sort algorithm (manual implementation)\n",
        "# 2. Using Python's built-in sort() method\n",
        "# Print both sorted lists for comparison\n",
        "Prompt:\n",
        "• # Write Python code that sorts a list in two ways:\n",
        "# 1. Using bubble sort algorithm (manual implementation)\n",
        "# 2. Using Python's built-in sort() method\n",
        "# Print both sorted lists for comparison\n"
      ],
      "metadata": {
        "id": "UpHyC4vTQWth"
      },
      "execution_count": null,
      "outputs": []
    },
    {
      "cell_type": "code",
      "metadata": {
        "colab": {
          "base_uri": "https://localhost:8080/"
        },
        "id": "82469be3",
        "outputId": "985a0b25-8ab8-4669-bbd9-e2ae99b37811"
      },
      "source": [
        "def bubble_sort(arr):\n",
        "  \"\"\"\n",
        "  Sorts a list using the bubble sort algorithm.\n",
        "  \"\"\"\n",
        "  n = len(arr)\n",
        "  for i in range(n):\n",
        "    # Last i elements are already in place\n",
        "    for j in range(0, n - i - 1):\n",
        "      # Traverse the array from 0 to n-i-1\n",
        "      # Swap if the element found is greater than the next element\n",
        "      if arr[j] > arr[j + 1]:\n",
        "        arr[j], arr[j + 1] = arr[j + 1], arr[j]\n",
        "  return arr\n",
        "\n",
        "# Sample list\n",
        "my_list = [64, 34, 25, 12, 22, 11, 90]\n",
        "\n",
        "# 1. Sort using bubble sort\n",
        "list_bubble_sorted = my_list[:] # Create a copy to avoid modifying the original list\n",
        "bubble_sort(list_bubble_sorted)\n",
        "print(\"List sorted using bubble sort:\", list_bubble_sorted)\n",
        "\n",
        "# 2. Sort using Python's built-in sort() method\n",
        "list_builtin_sorted = my_list[:] # Create another copy\n",
        "list_builtin_sorted.sort()\n",
        "print(\"List sorted using built-in sort():\", list_builtin_sorted)"
      ],
      "execution_count": 6,
      "outputs": [
        {
          "output_type": "stream",
          "name": "stdout",
          "text": [
            "List sorted using bubble sort: [11, 12, 22, 25, 34, 64, 90]\n",
            "List sorted using built-in sort(): [11, 12, 22, 25, 34, 64, 90]\n"
          ]
        }
      ]
    },
    {
      "cell_type": "markdown",
      "source": [
        "task 2\n",
        "• # Write a Python function that takes a string and returns:\n",
        "# - Number of vowels\n",
        "# - Number of consonants\n",
        "# - Number of digits\n",
        "# Test the function with an example string and print the results\n",
        "Prompt:\n",
        "• # Write a Python function that takes a string and returns:\n",
        "# - Number of vowels\n",
        "# - Number of consonants\n",
        "# - Number of digits\n",
        "# Test the function with an example string and print the results\n"
      ],
      "metadata": {
        "id": "j6lZ_kaRUa_p"
      }
    },
    {
      "cell_type": "code",
      "metadata": {
        "colab": {
          "base_uri": "https://localhost:8080/"
        },
        "id": "d7f477ce",
        "outputId": "6c6f0af5-6ba8-4c01-ca36-523c506e7fda"
      },
      "source": [
        "def count_chars(input_string):\n",
        "  \"\"\"\n",
        "  Counts the number of vowels, consonants, and digits in a string.\n",
        "\n",
        "  Args:\n",
        "    input_string: The string to analyze.\n",
        "\n",
        "  Returns:\n",
        "    A dictionary containing the counts of vowels, consonants, and digits.\n",
        "  \"\"\"\n",
        "  vowels = \"aeiouAEIOU\"\n",
        "  consonants = \"bcdfghjklmnpqrstvwxyzBCDFGHJKLMNPQRSTVWXYZ\"\n",
        "  digits = \"0123456789\"\n",
        "\n",
        "  vowel_count = 0\n",
        "  consonant_count = 0\n",
        "  digit_count = 0\n",
        "\n",
        "  for char in input_string:\n",
        "    if char in vowels:\n",
        "      vowel_count += 1\n",
        "    elif char in consonants:\n",
        "      consonant_count += 1\n",
        "    elif char in digits:\n",
        "      digit_count += 1\n",
        "\n",
        "  return {\n",
        "      \"vowels\": vowel_count,\n",
        "      \"consonants\": consonant_count,\n",
        "      \"digits\": digit_count\n",
        "  }\n",
        "\n",
        "# Test the function with an example string\n",
        "example_string = \"Hello World 123!\"\n",
        "results = count_chars(example_string)\n",
        "\n",
        "print(f\"Analysis of the string: '{example_string}'\")\n",
        "print(\"Number of vowels:\", results[\"vowels\"])\n",
        "print(\"Number of consonants:\", results[\"consonants\"])\n",
        "print(\"Number of digits:\", results[\"digits\"])"
      ],
      "execution_count": 7,
      "outputs": [
        {
          "output_type": "stream",
          "name": "stdout",
          "text": [
            "Analysis of the string: 'Hello World 123!'\n",
            "Number of vowels: 3\n",
            "Number of consonants: 7\n",
            "Number of digits: 3\n"
          ]
        }
      ]
    },
    {
      "cell_type": "markdown",
      "source": [
        "task 3\n",
        "• # Write Python code to:\n",
        "# 1. Create a text file\n",
        "# 2. Write some sample text into it\n",
        "# 3. Read the text from the file and display it\n",
        "Prompt:\n",
        "• # Write Python code to:\n",
        "# 1. Create a text file\n",
        "# 2. Write some sample text into it\n",
        "# 3. Read the text from the file and display it\n"
      ],
      "metadata": {
        "id": "df2D_EVnWge5"
      }
    },
    {
      "cell_type": "code",
      "metadata": {
        "colab": {
          "base_uri": "https://localhost:8080/"
        },
        "id": "f665fe2c",
        "outputId": "09862bff-cab8-40cc-ebbf-998847c81fad"
      },
      "source": [
        "# 1. Create a text file and write to it\n",
        "file_path = \"sample.txt\"\n",
        "sample_text = \"This is some sample text that will be written to the file.\"\n",
        "\n",
        "with open(file_path, \"w\") as file:\n",
        "  file.write(sample_text)\n",
        "\n",
        "print(f\"Text successfully written to '{file_path}'\")\n",
        "\n",
        "# 2. Read the text from the file and display it\n",
        "with open(file_path, \"r\") as file:\n",
        "  read_text = file.read()\n",
        "\n",
        "print(f\"\\nContent read from '{file_path}':\")\n",
        "print(read_text)"
      ],
      "execution_count": 11,
      "outputs": [
        {
          "output_type": "stream",
          "name": "stdout",
          "text": [
            "Text successfully written to 'sample.txt'\n",
            "\n",
            "Content read from 'sample.txt':\n",
            "This is some sample text that will be written to the file.\n"
          ]
        }
      ]
    },
    {
      "cell_type": "markdown",
      "source": [],
      "metadata": {
        "id": "uSCQifNEXzVa"
      }
    },
    {
      "cell_type": "markdown",
      "source": [
        "task 4\n",
        "•# Write a Python program for a simple calculator using functions:\n",
        "# - add, subtract, multiply, divide\n",
        "# Ask the user to select an operation and enter two numbers\n",
        "# Perform the calculation and print the result.\n",
        "Prompt:\n",
        "•# Write a Python program for a simple calculator using functions:\n",
        "# - add, subtract, multiply, divide\n",
        "# Ask the user to select an operation and enter two numbers\n",
        "# Perform the calculation and print the result.\n"
      ],
      "metadata": {
        "id": "FbVIJhjkW4S0"
      }
    },
    {
      "cell_type": "code",
      "metadata": {
        "colab": {
          "base_uri": "https://localhost:8080/"
        },
        "id": "51a374d1",
        "outputId": "98d518cb-0b35-4dce-9d04-f33ce34ba7aa"
      },
      "source": [
        "def add(x, y):\n",
        "  \"\"\"Adds two numbers.\"\"\"\n",
        "  return x + y\n",
        "\n",
        "def subtract(x, y):\n",
        "  \"\"\"Subtracts the second number from the first.\"\"\"\n",
        "  return x - y\n",
        "\n",
        "def multiply(x, y):\n",
        "  \"\"\"Multiplies two numbers.\"\"\"\n",
        "  return x * y\n",
        "\n",
        "def divide(x, y):\n",
        "  \"\"\"Divides the first number by the second.\"\"\"\n",
        "  if y == 0:\n",
        "    return \"Error! Division by zero.\"\n",
        "  else:\n",
        "    return x / y\n",
        "\n",
        "print(\"Select operation:\")\n",
        "print(\"1. Add\")\n",
        "print(\"2. Subtract\")\n",
        "print(\"3. Multiply\")\n",
        "print(\"4. Divide\")\n",
        "\n",
        "while True:\n",
        "  choice = input(\"Enter choice(1/2/3/4): \")\n",
        "\n",
        "  if choice in ('1', '2', '3', '4'):\n",
        "    try:\n",
        "      num1 = float(input(\"Enter first number: \"))\n",
        "      num2 = float(input(\"Enter second number: \"))\n",
        "    except ValueError:\n",
        "      print(\"Invalid input. Please enter numbers.\")\n",
        "      continue\n",
        "\n",
        "    if choice == '1':\n",
        "      print(num1, \"+\", num2, \"=\", add(num1, num2))\n",
        "\n",
        "    elif choice == '2':\n",
        "      print(num1, \"-\", num2, \"=\", subtract(num1, num2))\n",
        "\n",
        "    elif choice == '3':\n",
        "      print(num1, \"*\", num2, \"=\", multiply(num1, num2))\n",
        "\n",
        "    elif choice == '4':\n",
        "      print(num1, \"/\", num2, \"=\", divide(num1, num2))\n",
        "    break\n",
        "  else:\n",
        "    print(\"Invalid Input\")"
      ],
      "execution_count": 12,
      "outputs": [
        {
          "output_type": "stream",
          "name": "stdout",
          "text": [
            "Select operation:\n",
            "1. Add\n",
            "2. Subtract\n",
            "3. Multiply\n",
            "4. Divide\n",
            "Enter choice(1/2/3/4): 2\n",
            "Enter first number: 31\n",
            "Enter second number: 23\n",
            "31.0 - 23.0 = 8.0\n"
          ]
        }
      ]
    },
    {
      "cell_type": "markdown",
      "source": [
        "task 5\n",
        "# Write a Python program that checks if a given year is a leap year.\n",
        "Prompt:\n",
        "# Write a Python program that checks if a given year is a leap year."
      ],
      "metadata": {
        "id": "XIFZR175XaCy"
      }
    },
    {
      "cell_type": "code",
      "metadata": {
        "colab": {
          "base_uri": "https://localhost:8080/"
        },
        "id": "6389b7e8",
        "outputId": "ce10f216-d8f7-4cfd-b6e5-516fdc10f6ff"
      },
      "source": [
        "def is_leap_year(year):\n",
        "  \"\"\"\n",
        "  Checks if a given year is a leap year.\n",
        "\n",
        "  Args:\n",
        "    year: The year to check.\n",
        "\n",
        "  Returns:\n",
        "    True if the year is a leap year, False otherwise.\n",
        "  \"\"\"\n",
        "  # Leap years are divisible by 4, but not by 100 unless they are also divisible by 400.\n",
        "  return (year % 4 == 0 and year % 100 != 0) or (year % 400 == 0)\n",
        "\n",
        "# Get input from the user\n",
        "try:\n",
        "  year_to_check = int(input(\"Enter a year to check if it's a leap year: \"))\n",
        "  if is_leap_year(year_to_check):\n",
        "    print(f\"{year_to_check} is a leap year.\")\n",
        "  else:\n",
        "    print(f\"{year_to_check} is not a leap year.\")\n",
        "except ValueError:\n",
        "  print(\"Invalid input. Please enter a valid year.\")"
      ],
      "execution_count": 13,
      "outputs": [
        {
          "output_type": "stream",
          "name": "stdout",
          "text": [
            "Enter a year to check if it's a leap year: 7\n",
            "7 is not a leap year.\n"
          ]
        }
      ]
    }
  ]
}